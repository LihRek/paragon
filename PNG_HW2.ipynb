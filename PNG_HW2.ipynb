{
  "nbformat": 4,
  "nbformat_minor": 0,
  "metadata": {
    "colab": {
      "provenance": []
    },
    "kernelspec": {
      "name": "python3",
      "display_name": "Python 3"
    },
    "language_info": {
      "name": "python"
    }
  },
  "cells": [
    {
      "cell_type": "markdown",
      "source": [
        "Paragon National Group Winter 2023\n",
        "Computer Science Track\n",
        "HW 2\n",
        "\n",
        "Assigned: January 16, 2022\n",
        "Due: January 22, 2022 11:59pm\n",
        "\n",
        "This is the second programming assignment of the computer science track. For each function, a skeleton is provided, where your job is to fill the *TODO* out. The questions will cover the topics learned in the second lecture, which entailed conditionals, recursive functions, and for and while loops."
      ],
      "metadata": {
        "id": "RWFyCcQ9nc4Q"
      }
    },
    {
      "cell_type": "code",
      "source": [
        "# This function takes a natural number as an argument (so it can't be negative) \n",
        "# and returns a boolean value of true or false that shows whether the inputted \n",
        "# number is a palindrome or not. A palindrome is something that reads the same \n",
        "# backward as forward (i.e. '2002'). Use a for or while for the implementation \n",
        "# of this function.\n",
        "# Ex) iterative_palindrome(1) -> true\n",
        "#     iterative_palindrome(12) -> false\n",
        "#     iterative_palindrome(2468642) -> true\n",
        "def iterative_palindrome(n):\n",
        "    m = 0\n",
        "    k = n\n",
        "    while n > 0:\n",
        "      m = m * 10 + n % 10\n",
        "      n //= 10\n",
        "    if k == m:\n",
        "      return True\n",
        "    else:\n",
        "      return False\n",
        "\n",
        "# test functions\n",
        "print(iterative_palindrome(1))\n",
        "print(iterative_palindrome(12))\n",
        "print(iterative_palindrome(2468642))"
      ],
      "metadata": {
        "id": "YjN_xx_EnnVy",
        "outputId": "4465aa04-54e4-4134-c1ef-555f484a8ce2",
        "colab": {
          "base_uri": "https://localhost:8080/"
        }
      },
      "execution_count": 9,
      "outputs": [
        {
          "output_type": "stream",
          "name": "stdout",
          "text": [
            "True\n",
            "False\n",
            "True\n"
          ]
        }
      ]
    },
    {
      "cell_type": "code",
      "source": [
        "# This function is the same as iterative_palindrome() except instead of using a\n",
        "# loop, implement the function in a recursive way.\n",
        "# Ex) recursive_palindrome(1) -> true\n",
        "#     recursive_palindrome(12) -> false\n",
        "#     recursive_palindrome(2468642) -> true\n",
        "def recursive_palindrome(n):\n",
        "    m = str(n)\n",
        "    if len(m) <= 1:\n",
        "      return True\n",
        "    if m[0] == m[len(m) - 1]:\n",
        "      recursive_palindrome(m[1:len(m) - 1])\n",
        "    else:\n",
        "      return False\n",
        "    return True\n",
        "\n",
        "print(recursive_palindrome(1))\n",
        "print(recursive_palindrome(12))\n",
        "print(recursive_palindrome(2468642))"
      ],
      "metadata": {
        "id": "NawDWFCBnzrY",
        "outputId": "66f13c68-07ae-47ab-fda9-25e6d1fcdab9",
        "colab": {
          "base_uri": "https://localhost:8080/"
        }
      },
      "execution_count": 19,
      "outputs": [
        {
          "output_type": "stream",
          "name": "stdout",
          "text": [
            "True\n",
            "False\n",
            "True\n"
          ]
        }
      ]
    },
    {
      "cell_type": "code",
      "execution_count": null,
      "metadata": {
        "id": "A08W94p6mzMG"
      },
      "outputs": [],
      "source": [
        "# This function reads a file and returns the longest word in the file.\n",
        "# Note: All words must be on a new line. If there are multiple longest words, the first one will be returned.\n",
        "def longest_word(fname):\n",
        "    f = open(fname, \"r\")\n",
        "    ans = ''\n",
        "    for i in f:\n",
        "        if len(i) > len(ans):\n",
        "            ans = i\n",
        "    return ans\n",
        "\n",
        "print(longest_word('filename'))"
      ]
    }
  ]
}