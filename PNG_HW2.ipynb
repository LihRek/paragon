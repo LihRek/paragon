{
 "nbformat": 4,
 "nbformat_minor": 0,
 "metadata": {
  "colab": {
   "provenance": []
  },
  "kernelspec": {
   "name": "python3",
   "display_name": "Python 3"
  },
  "language_info": {
   "name": "python"
  }
 },
 "cells": [
  {
   "cell_type": "markdown",
   "source": [
    "Paragon National Group Winter 2023\n",
    "Computer Science Track\n",
    "HW 2\n",
    "\n",
    "Assigned: January 16, 2022\n",
    "Due: January 22, 2022 11:59pm\n",
    "\n",
    "This is the second programming assignment of the computer science track. For each function, a skeleton is provided, where your job is to fill the *TODO* out. The questions will cover the topics learned in the second lecture, which entailed conditionals, recursive functions, and for and while loops."
   ],
   "metadata": {
    "id": "RWFyCcQ9nc4Q"
   }
  },
  {
   "cell_type": "code",
   "source": [
    "# This function takes a natural number as an argument (so it can't be negative) \n",
    "# and returns a boolean value of true or false that shows whether the inputted \n",
    "# number is a palindrome or not. A palindrome is something that reads the same \n",
    "# backward as forward (i.e. '2002'). Use a for or while for the implementation \n",
    "# of this function.\n",
    "# Ex) iterative_palindrome(1) -> true\n",
    "#     iterative_palindrome(12) -> false\n",
    "#     iterative_palindrome(2468642) -> true\n",
    "def iterative_palindrome(n):\n",
    "    m = 0\n",
    "    k = n\n",
    "    while n > 0:\n",
    "      m = m * 10 + n % 10\n",
    "      n //= 10\n",
    "    if k == m:\n",
    "      return True\n",
    "    else:\n",
    "      return False\n",
    "\n",
    "# test functions\n",
    "print(iterative_palindrome(1))\n",
    "print(iterative_palindrome(12))\n",
    "print(iterative_palindrome(2468642))"
   ],
   "metadata": {
    "id": "YjN_xx_EnnVy",
    "outputId": "4465aa04-54e4-4134-c1ef-555f484a8ce2",
    "colab": {
     "base_uri": "https://localhost:8080/"
    }
   },
   "execution_count": 1,
   "outputs": [
    {
     "name": "stdout",
     "output_type": "stream",
     "text": [
      "True\n",
      "False\n",
      "True\n"
     ]
    }
   ]
  },
  {
   "cell_type": "code",
   "source": [
    "# This function is the same as iterative_palindrome() except instead of using a\n",
    "# loop, implement the function in a recursive way.\n",
    "# Ex) recursive_palindrome(1) -> true\n",
    "#     recursive_palindrome(12) -> false\n",
    "#     recursive_palindrome(2468642) -> true\n",
    "def recursive_palindrome(n):\n",
    "    m = str(n)\n",
    "    if len(m) <= 1:\n",
    "      return True\n",
    "    if m[0] == m[len(m) - 1]:\n",
    "      return recursive_palindrome(m[1:len(m) - 1])\n",
    "    else:\n",
    "      return False\n",
    "\n",
    "print(recursive_palindrome(1))\n",
    "print(recursive_palindrome(12))\n",
    "print(recursive_palindrome(2468642))"
   ],
   "metadata": {
    "id": "NawDWFCBnzrY",
    "outputId": "66f13c68-07ae-47ab-fda9-25e6d1fcdab9",
    "colab": {
     "base_uri": "https://localhost:8080/"
    }
   },
   "execution_count": 2,
   "outputs": [
    {
     "name": "stdout",
     "output_type": "stream",
     "text": [
      "True\n",
      "False\n",
      "True\n"
     ]
    }
   ]
  },
  {
   "cell_type": "code",
   "execution_count": 3,
   "metadata": {
    "id": "A08W94p6mzMG"
   },
   "outputs": [
    {
     "ename": "FileNotFoundError",
     "evalue": "[Errno 2] No such file or directory: 'filename'",
     "output_type": "error",
     "traceback": [
      "\u001B[0;31m---------------------------------------------------------------------------\u001B[0m",
      "\u001B[0;31mFileNotFoundError\u001B[0m                         Traceback (most recent call last)",
      "Input \u001B[0;32mIn [3]\u001B[0m, in \u001B[0;36m<cell line: 11>\u001B[0;34m()\u001B[0m\n\u001B[1;32m      8\u001B[0m             ans \u001B[38;5;241m=\u001B[39m i\n\u001B[1;32m      9\u001B[0m     \u001B[38;5;28;01mreturn\u001B[39;00m ans\n\u001B[0;32m---> 11\u001B[0m \u001B[38;5;28mprint\u001B[39m(\u001B[43mlongest_word\u001B[49m\u001B[43m(\u001B[49m\u001B[38;5;124;43m'\u001B[39;49m\u001B[38;5;124;43mfilename\u001B[39;49m\u001B[38;5;124;43m'\u001B[39;49m\u001B[43m)\u001B[49m)\n",
      "Input \u001B[0;32mIn [3]\u001B[0m, in \u001B[0;36mlongest_word\u001B[0;34m(fname)\u001B[0m\n\u001B[1;32m      3\u001B[0m \u001B[38;5;28;01mdef\u001B[39;00m \u001B[38;5;21mlongest_word\u001B[39m(fname):\n\u001B[0;32m----> 4\u001B[0m     f \u001B[38;5;241m=\u001B[39m \u001B[38;5;28;43mopen\u001B[39;49m\u001B[43m(\u001B[49m\u001B[43mfname\u001B[49m\u001B[43m,\u001B[49m\u001B[43m \u001B[49m\u001B[38;5;124;43m\"\u001B[39;49m\u001B[38;5;124;43mr\u001B[39;49m\u001B[38;5;124;43m\"\u001B[39;49m\u001B[43m)\u001B[49m\n\u001B[1;32m      5\u001B[0m     ans \u001B[38;5;241m=\u001B[39m \u001B[38;5;124m'\u001B[39m\u001B[38;5;124m'\u001B[39m\n\u001B[1;32m      6\u001B[0m     \u001B[38;5;28;01mfor\u001B[39;00m i \u001B[38;5;129;01min\u001B[39;00m f:\n",
      "\u001B[0;31mFileNotFoundError\u001B[0m: [Errno 2] No such file or directory: 'filename'"
     ]
    }
   ],
   "source": [
    "# This function reads a file and returns the longest word in the file.\n",
    "# Note: All words must be on a new line. If there are multiple longest words, the first one will be returned.\n",
    "def longest_word(fname):\n",
    "    f = open(fname, \"r\")\n",
    "    ans = ''\n",
    "    for i in f:\n",
    "        if len(i) > len(ans):\n",
    "            ans = i\n",
    "    return ans\n",
    "\n",
    "print(longest_word('filename'))"
   ]
  }
 ]
}
